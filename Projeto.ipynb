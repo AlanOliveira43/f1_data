{
 "cells": [
  {
   "cell_type": "code",
   "execution_count": 3,
   "metadata": {},
   "outputs": [],
   "source": [
    "from sklearn.linear_model import LinearRegression\n",
    "from sklearn.metrics import mean_absolute_error, mean_squared_error\n",
    "import pandas as pd\n",
    "\n",
    "from sklearn.model_selection import train_test_split\n",
    "from sklearn.ensemble import RandomForestRegressor\n"
   ]
  },
  {
   "cell_type": "code",
   "execution_count": 4,
   "metadata": {},
   "outputs": [
    {
     "name": "stdout",
     "output_type": "stream",
     "text": [
      "Previsões: [ 96830.71810161  90886.61483984 105394.37864319 ...  91282.6623153\n",
      " 100033.62787001  91150.64649015]\n",
      "Erro Médio Absoluto (MAE): 15561.3873326806\n",
      "Erro Quadrático Médio (MSE): 15003154455.928654\n",
      "Raiz do Erro Quadrático Médio (RMSE): 122487.36447458022\n"
     ]
    }
   ],
   "source": [
    "# Carregar os dados de lap_times e outros arquivos relevantes\n",
    "lap_times = pd.read_csv('lap_times.csv')\n",
    "qualifying = pd.read_csv('qualifying.csv')\n",
    "races = pd.read_csv('races.csv')\n",
    "\n",
    "# Merge com outros datasets para criar variáveis explicativas\n",
    "data = lap_times.merge(qualifying, on=['raceId', 'driverId']).merge(races, on='raceId')\n",
    "\n",
    "# Reduzir o tamanho dos dados para uma amostra menor\n",
    "data_sample = data.sample(n=10000, random_state=42)  # Exemplo: 10.000 amostras\n",
    "\n",
    "# Escolher features (número da volta e posição de qualificação)\n",
    "X_sample = data_sample[['lap', 'position_x']]\n",
    "y_sample = data_sample['milliseconds']\n",
    "\n",
    "# Treinar o modelo com os dados reduzidos\n",
    "model = LinearRegression()\n",
    "model.fit(X_sample, y_sample)\n",
    "\n",
    "# Previsões com o conjunto reduzido\n",
    "predictions_sample = model.predict(X_sample)\n",
    "\n",
    "# Comparar previsões com valores reais\n",
    "mae = mean_absolute_error(y_sample, predictions_sample)\n",
    "mse = mean_squared_error(y_sample, predictions_sample)\n",
    "rmse = mse ** 0.5\n",
    "\n",
    "# Exibir resultados\n",
    "print(\"Previsões:\", predictions_sample)\n",
    "print(\"Erro Médio Absoluto (MAE):\", mae)\n",
    "print(\"Erro Quadrático Médio (MSE):\", mse)\n",
    "print(\"Raiz do Erro Quadrático Médio (RMSE):\", rmse)\n"
   ]
  },
  {
   "cell_type": "code",
   "execution_count": 5,
   "metadata": {},
   "outputs": [
    {
     "name": "stdout",
     "output_type": "stream",
     "text": [
      "Erro Médio Absoluto (MAE): 2.75\n",
      "\n",
      "Primeiras previsões vs valores reais:\n",
      "Previsto: 9, Real: 5\n",
      "Previsto: 11, Real: 2\n",
      "Previsto: 6, Real: 3\n",
      "Previsto: 11, Real: 12\n",
      "Previsto: 6, Real: 17\n"
     ]
    }
   ],
   "source": [
    "# Carregar os dados\n",
    "lap_times = pd.read_csv('lap_times.csv')\n",
    "results = pd.read_csv('results.csv')\n",
    "qualifying = pd.read_csv('qualifying.csv')\n",
    "pit_stops = pd.read_csv('pit_stops.csv')\n",
    "\n",
    "# Substituir valores '\\N' por NaN para tratar valores ausentes\n",
    "lap_times.replace('\\\\N', np.nan, inplace=True)\n",
    "results.replace('\\\\N', np.nan, inplace=True)\n",
    "qualifying.replace('\\\\N', np.nan, inplace=True)\n",
    "pit_stops.replace('\\\\N', np.nan, inplace=True)\n",
    "\n",
    "# 1. Preparar os dados\n",
    "# Média do tempo de volta por piloto e corrida\n",
    "lap_times_filtered = lap_times.groupby(['raceId', 'driverId'])['milliseconds'].mean().reset_index()\n",
    "# Selecionar posições de qualificação e filtrar\n",
    "qualifying_filtered = qualifying[['raceId', 'driverId', 'position']].rename(columns={'position': 'qualifying_position'})\n",
    "# Filtrar resultados e posições finais\n",
    "results_filtered = results[['raceId', 'driverId', 'position']].rename(columns={'position': 'final_position'})\n",
    "# Número de pit stops por corrida e piloto\n",
    "pit_stops_filtered = pit_stops.groupby(['raceId', 'driverId'])['stop'].count().reset_index()\n",
    "\n",
    "# Combinar os dados em um único dataframe\n",
    "data_combined = pd.merge(lap_times_filtered, qualifying_filtered, on=['raceId', 'driverId'])\n",
    "data_combined = pd.merge(data_combined, results_filtered, on=['raceId', 'driverId'])\n",
    "data_combined = pd.merge(data_combined, pit_stops_filtered, on=['raceId', 'driverId'])\n",
    "\n",
    "# Tratar valores ausentes (por exemplo, removendo linhas com NaN)\n",
    "data_combined.dropna(inplace=True)\n",
    "\n",
    "# Converter colunas para tipo numérico (caso ainda contenham strings como resultado da importação)\n",
    "data_combined['milliseconds'] = pd.to_numeric(data_combined['milliseconds'])\n",
    "data_combined['qualifying_position'] = pd.to_numeric(data_combined['qualifying_position'])\n",
    "data_combined['final_position'] = pd.to_numeric(data_combined['final_position'])\n",
    "data_combined['stop'] = pd.to_numeric(data_combined['stop'])\n",
    "\n",
    "# 2. Pré-processamento\n",
    "# Variáveis preditoras e variável alvo\n",
    "X = data_combined[['milliseconds', 'qualifying_position', 'stop']]\n",
    "y = data_combined['final_position']\n",
    "\n",
    "# Dividir os dados em treino e teste\n",
    "X_train, X_test, y_train, y_test = train_test_split(X, y, test_size=0.2, random_state=42)\n",
    "\n",
    "# 3. Treinar o modelo\n",
    "model = RandomForestRegressor(random_state=42)\n",
    "model.fit(X_train, y_train)\n",
    "\n",
    "# 4. Fazer previsões e avaliar o modelo\n",
    "y_pred = model.predict(X_test)\n",
    "mae = mean_absolute_error(y_test, y_pred)\n",
    "\n",
    "# Exibir o erro médio absoluto\n",
    "print(f\"Erro Médio Absoluto (MAE): {mae:.2f}\")\n",
    "\n",
    "# Exibir as primeiras previsões e os valores reais\n",
    "print(\"\\nPrimeiras previsões vs valores reais:\")\n",
    "for pred, real in zip(y_pred[:5], y_test[:5]):\n",
    "    print(f\"Previsto: {int(pred)}, Real: {real}\")\n"
   ]
  }
 ],
 "metadata": {
  "kernelspec": {
   "display_name": "Python 3",
   "language": "python",
   "name": "python3"
  },
  "language_info": {
   "codemirror_mode": {
    "name": "ipython",
    "version": 3
   },
   "file_extension": ".py",
   "mimetype": "text/x-python",
   "name": "python",
   "nbconvert_exporter": "python",
   "pygments_lexer": "ipython3",
   "version": "3.11.4"
  }
 },
 "nbformat": 4,
 "nbformat_minor": 2
}

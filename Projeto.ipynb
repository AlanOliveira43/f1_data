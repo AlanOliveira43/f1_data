{
 "cells": [
  {
   "cell_type": "code",
   "execution_count": 7,
   "metadata": {},
   "outputs": [
    {
     "name": "stdout",
     "output_type": "stream",
     "text": [
      "Previsões: [ 96830.71810161  90886.61483984 105394.37864319 ...  91282.6623153\n",
      " 100033.62787001  91150.64649015]\n",
      "Erro Médio Absoluto (MAE): 15561.3873326806\n",
      "Erro Quadrático Médio (MSE): 15003154455.928654\n",
      "Raiz do Erro Quadrático Médio (RMSE): 122487.36447458022\n"
     ]
    }
   ],
   "source": [
    "from sklearn.linear_model import LinearRegression\n",
    "from sklearn.metrics import mean_absolute_error, mean_squared_error\n",
    "import pandas as pd\n",
    "\n",
    "# Carregar os dados de lap_times e outros arquivos relevantes\n",
    "lap_times = pd.read_csv('lap_times.csv')\n",
    "qualifying = pd.read_csv('qualifying.csv')\n",
    "races = pd.read_csv('races.csv')\n",
    "\n",
    "# Merge com outros datasets para criar variáveis explicativas\n",
    "data = lap_times.merge(qualifying, on=['raceId', 'driverId']).merge(races, on='raceId')\n",
    "\n",
    "# Reduzir o tamanho dos dados para uma amostra menor\n",
    "data_sample = data.sample(n=10000, random_state=42)  # Exemplo: 10.000 amostras\n",
    "\n",
    "# Escolher features (número da volta e posição de qualificação)\n",
    "X_sample = data_sample[['lap', 'position_x']]\n",
    "y_sample = data_sample['milliseconds']\n",
    "\n",
    "# Treinar o modelo com os dados reduzidos\n",
    "model = LinearRegression()\n",
    "model.fit(X_sample, y_sample)\n",
    "\n",
    "# Previsões com o conjunto reduzido\n",
    "predictions_sample = model.predict(X_sample)\n",
    "\n",
    "# Comparar previsões com valores reais\n",
    "mae = mean_absolute_error(y_sample, predictions_sample)\n",
    "mse = mean_squared_error(y_sample, predictions_sample)\n",
    "rmse = mse ** 0.5\n",
    "\n",
    "# Exibir resultados\n",
    "print(\"Previsões:\", predictions_sample)\n",
    "print(\"Erro Médio Absoluto (MAE):\", mae)\n",
    "print(\"Erro Quadrático Médio (MSE):\", mse)\n",
    "print(\"Raiz do Erro Quadrático Médio (RMSE):\", rmse)\n"
   ]
  }
 ],
 "metadata": {
  "kernelspec": {
   "display_name": "Python 3",
   "language": "python",
   "name": "python3"
  },
  "language_info": {
   "codemirror_mode": {
    "name": "ipython",
    "version": 3
   },
   "file_extension": ".py",
   "mimetype": "text/x-python",
   "name": "python",
   "nbconvert_exporter": "python",
   "pygments_lexer": "ipython3",
   "version": "3.11.4"
  }
 },
 "nbformat": 4,
 "nbformat_minor": 2
}
